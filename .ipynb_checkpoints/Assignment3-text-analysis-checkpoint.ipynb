{
 "cells": [
  {
   "cell_type": "markdown",
   "metadata": {},
   "source": [
    "# Assignment 3 - Text Analysis\n",
    "An explanation this assignment could be found in the .pdf explanation document"
   ]
  },
  {
   "cell_type": "markdown",
   "metadata": {},
   "source": [
    "\n",
    "## Materials to review for this assignment\n",
    "<h4>From Moodle:</h4> \n",
    "<h5><u>Review the notebooks regarding the following python topics</u>:</h5>\n",
    "<div class=\"alert alert-info\">\n",
    "&#x2714; <b>Working with strings</b> (tutorial notebook)<br/>\n",
    "&#x2714; <b>Text Analysis</b> (tutorial notebook)<br/>\n",
    "&#x2714; <b>Hebrew text analysis tools (tokenizer, wordnet)</b> (moodle example)<br/>\n",
    "&#x2714; <b>(brief review) All previous notebooks</b><br/>\n",
    "</div> \n",
    "<h5><u>Review the presentations regarding the following topics</u>:</h5>\n",
    "<div class=\"alert alert-info\">\n",
    "&#x2714; <b>Text Analysis</b> (lecture presentation)<br/>\n",
    "&#x2714; <b>(brief review) All other presentations</b><br/>\n",
    "</div>"
   ]
  },
  {
   "cell_type": "markdown",
   "metadata": {},
   "source": [
    "## Personal Details:"
   ]
  },
  {
   "cell_type": "code",
   "execution_count": 1,
   "metadata": {},
   "outputs": [],
   "source": [
    "# Details Student 1:\n",
    "first_student_name = \"Reem Beniluz\"\n",
    "first_student_id= \"315088252\"\n",
    "first_student_mail= \"reemb114@gmail.com\"\n",
    "\n",
    "# Details Student 2:\n",
    "second_student_name = \"Adir Golber\"\n",
    "second_student_id = \"315005926\"\n",
    "second_student_mail = \"adirdoor@gmail.com\"\n",
    "\n"
   ]
  },
  {
   "cell_type": "markdown",
   "metadata": {},
   "source": [
    "## Preceding Step - import modules (packages)\n",
    "This step is necessary in order to use external modules (packages). <br/>"
   ]
  },
  {
   "cell_type": "code",
   "execution_count": 2,
   "metadata": {},
   "outputs": [],
   "source": [
    "# --------------------------------------\n",
    "import pandas as pd\n",
    "import numpy as np\n",
    "# --------------------------------------\n",
    "\n",
    "\n",
    "# --------------------------------------\n",
    "# ------------- visualizations:\n",
    "import seaborn as sns\n",
    "import matplotlib.pyplot as plt\n",
    "from matplotlib.colors import ListedColormap\n",
    "# --------------------------------------\n",
    "\n",
    "\n",
    "# ---------------------------------------\n",
    "import sklearn\n",
    "from sklearn import preprocessing, metrics, pipeline, model_selection, feature_extraction \n",
    "from sklearn import naive_bayes, linear_model, svm, neural_network, neighbors, tree\n",
    "from sklearn import decomposition, cluster\n",
    "\n",
    "from sklearn.model_selection import train_test_split, cross_val_score, GridSearchCV \n",
    "from sklearn.pipeline import Pipeline\n",
    "from sklearn.metrics import accuracy_score, confusion_matrix\n",
    "from sklearn.metrics import precision_score, recall_score, f1_score\n",
    "from sklearn.metrics import mean_squared_error, r2_score, silhouette_score\n",
    "from sklearn.preprocessing import MinMaxScaler, StandardScaler, LabelEncoder\n",
    "\n",
    "from sklearn.svm import LinearSVC\n",
    "from sklearn.neural_network import MLPClassifier\n",
    "from sklearn.linear_model import Perceptron, SGDClassifier\n",
    "from sklearn.decomposition import PCA\n",
    "from sklearn.cluster import KMeans\n",
    "from sklearn.naive_bayes import MultinomialNB, GaussianNB\n",
    "from sklearn.neighbors import KNeighborsClassifier\n",
    "from sklearn.tree import DecisionTreeClassifier\n",
    "from sklearn.feature_selection import SelectKBest\n",
    "from sklearn.feature_selection import mutual_info_classif\n",
    "# ---------------------------------------\n",
    "\n",
    "\n",
    "# ----------------- output and visualizations: \n",
    "import warnings\n",
    "from sklearn.exceptions import ConvergenceWarning\n",
    "warnings.simplefilter(\"ignore\")\n",
    "warnings.simplefilter(action='ignore', category=FutureWarning)\n",
    "warnings.simplefilter(\"ignore\", category=ConvergenceWarning)\n",
    "# show several prints in one cell. This will allow us to condence every trick in one cell.\n",
    "from IPython.core.interactiveshell import InteractiveShell\n",
    "InteractiveShell.ast_node_interactivity = \"all\"\n",
    "%matplotlib inline\n",
    "pd.pandas.set_option('display.max_columns', None)\n",
    "pd.set_option('display.float_format', lambda x: '%.3f' % x)\n",
    "# ---------------------------------------"
   ]
  },
  {
   "cell_type": "markdown",
   "metadata": {},
   "source": [
    "### Text analysis and String manipulation imports:"
   ]
  },
  {
   "cell_type": "code",
   "execution_count": 3,
   "metadata": {},
   "outputs": [],
   "source": [
    "# --------------------------------------\n",
    "# --------- Text analysis and Hebrew text analysis imports:\n",
    "# vectorizers:\n",
    "from sklearn.feature_extraction import text\n",
    "from sklearn.feature_extraction.text import CountVectorizer, TfidfVectorizer\n",
    "\n",
    "# regular expressions:\n",
    "import re\n",
    "# --------------------------------------"
   ]
  },
  {
   "cell_type": "markdown",
   "metadata": {},
   "source": [
    "### (optional) Hebrew text analysis - WordNet (for Hebrew)\n",
    "Note: the WordNet is not a must"
   ]
  },
  {
   "cell_type": "markdown",
   "metadata": {},
   "source": [
    "#### (optional) Only if you didn't install Wordnet (for Hebrew) use:"
   ]
  },
  {
   "cell_type": "code",
   "execution_count": 4,
   "metadata": {},
   "outputs": [],
   "source": [
    "# word net installation:\n",
    "\n",
    "# unmark if you want to use and need to install\n",
    "# !pip install wn\n",
    "# !python -m wn download omw-he:1.4"
   ]
  },
  {
   "cell_type": "code",
   "execution_count": 5,
   "metadata": {},
   "outputs": [],
   "source": [
    "# word net import:\n",
    "\n",
    "# unmark if you want to use:\n",
    "# import wn"
   ]
  },
  {
   "cell_type": "markdown",
   "metadata": {},
   "source": [
    "### (optional) Hebrew text analysis - hebrew_tokenizer (Tokenizer for Hebrew)\n",
    "Note: the hebrew_tokenizer is not a must"
   ]
  },
  {
   "cell_type": "markdown",
   "metadata": {},
   "source": [
    "#### (optional) Only if you didn't install hebrew_tokenizer use:"
   ]
  },
  {
   "cell_type": "code",
   "execution_count": 6,
   "metadata": {},
   "outputs": [],
   "source": [
    "# Hebrew tokenizer installation:\n",
    "\n",
    "# unmark if you want to use and need to install:\n",
    "# !pip install hebrew_tokenizer"
   ]
  },
  {
   "cell_type": "code",
   "execution_count": 7,
   "metadata": {},
   "outputs": [],
   "source": [
    "# Hebrew tokenizer import:\n",
    "\n",
    "# unmark if you want to use:\n",
    "# import hebrew_tokenizer as ht"
   ]
  },
  {
   "cell_type": "markdown",
   "metadata": {},
   "source": [
    "### Reading input files\n",
    "Reading input files for train annotated corpus (raw text data) corpus and for the test corpus"
   ]
  },
  {
   "cell_type": "code",
   "execution_count": 8,
   "metadata": {},
   "outputs": [],
   "source": [
    "def load_data(filename):\n",
    "\n",
    "    return pd.read_csv(filename, index_col=None, encoding='utf-8')"
   ]
  },
  {
   "cell_type": "code",
   "execution_count": 30,
   "metadata": {},
   "outputs": [],
   "source": [
    "train_filename = 'annotated_corpus_for_train.csv'\n",
    "test_filename  = 'corpus_for_test.csv'\n",
    "df_train = load_data(train_filename)\n",
    "df_test  = load_data(test_filename)\n",
    "preprocess_data_frame(df_train)\n",
    "preprocess_data_frame(df_test)"
   ]
  },
  {
   "cell_type": "code",
   "execution_count": 31,
   "metadata": {},
   "outputs": [
    {
     "data": {
      "text/html": [
       "<div>\n",
       "<style scoped>\n",
       "    .dataframe tbody tr th:only-of-type {\n",
       "        vertical-align: middle;\n",
       "    }\n",
       "\n",
       "    .dataframe tbody tr th {\n",
       "        vertical-align: top;\n",
       "    }\n",
       "\n",
       "    .dataframe thead th {\n",
       "        text-align: right;\n",
       "    }\n",
       "</style>\n",
       "<table border=\"1\" class=\"dataframe\">\n",
       "  <thead>\n",
       "    <tr style=\"text-align: right;\">\n",
       "      <th></th>\n",
       "      <th>story</th>\n",
       "      <th>gender</th>\n",
       "    </tr>\n",
       "  </thead>\n",
       "  <tbody>\n",
       "    <tr>\n",
       "      <th>0</th>\n",
       "      <td>כשחבר הזמין אותי לחול, לא באמת חשבתי שזה יקרה,...</td>\n",
       "      <td>m</td>\n",
       "    </tr>\n",
       "    <tr>\n",
       "      <th>1</th>\n",
       "      <td>לפני שהתגייסתי לצבא עשיתי כל מני מיונים ליחידו...</td>\n",
       "      <td>m</td>\n",
       "    </tr>\n",
       "    <tr>\n",
       "      <th>2</th>\n",
       "      <td>מאז שהתחילו הלימודים חלומו של כל סטודנט זה הפנ...</td>\n",
       "      <td>f</td>\n",
       "    </tr>\n",
       "    <tr>\n",
       "      <th>3</th>\n",
       "      <td>כשהייתי ילד, מטוסים היה הדבר שהכי ריתק אותי. ב...</td>\n",
       "      <td>m</td>\n",
       "    </tr>\n",
       "    <tr>\n",
       "      <th>4</th>\n",
       "      <td>‏הייתי מדריכה בכפר נוער ומתאם הכפר היינו צריכי...</td>\n",
       "      <td>f</td>\n",
       "    </tr>\n",
       "    <tr>\n",
       "      <th>5</th>\n",
       "      <td>לפני כ3 חודשים טסתי לרומא למשך שבוע. טסתי במטו...</td>\n",
       "      <td>f</td>\n",
       "    </tr>\n",
       "    <tr>\n",
       "      <th>6</th>\n",
       "      <td>אני כבר שנתיים נשוי והשנה אני ואישתי סוף סוף י...</td>\n",
       "      <td>m</td>\n",
       "    </tr>\n",
       "    <tr>\n",
       "      <th>7</th>\n",
       "      <td>השנה התחלנו שיפוץ בדירה שלנו בתל אביב. הדירה ה...</td>\n",
       "      <td>f</td>\n",
       "    </tr>\n",
       "  </tbody>\n",
       "</table>\n",
       "</div>"
      ],
      "text/plain": [
       "                                               story gender\n",
       "0  כשחבר הזמין אותי לחול, לא באמת חשבתי שזה יקרה,...      m\n",
       "1  לפני שהתגייסתי לצבא עשיתי כל מני מיונים ליחידו...      m\n",
       "2  מאז שהתחילו הלימודים חלומו של כל סטודנט זה הפנ...      f\n",
       "3  כשהייתי ילד, מטוסים היה הדבר שהכי ריתק אותי. ב...      m\n",
       "4  ‏הייתי מדריכה בכפר נוער ומתאם הכפר היינו צריכי...      f\n",
       "5  לפני כ3 חודשים טסתי לרומא למשך שבוע. טסתי במטו...      f\n",
       "6  אני כבר שנתיים נשוי והשנה אני ואישתי סוף סוף י...      m\n",
       "7  השנה התחלנו שיפוץ בדירה שלנו בתל אביב. הדירה ה...      f"
      ]
     },
     "execution_count": 31,
     "metadata": {},
     "output_type": "execute_result"
    },
    {
     "data": {
      "text/plain": [
       "(753, 2)"
      ]
     },
     "execution_count": 31,
     "metadata": {},
     "output_type": "execute_result"
    }
   ],
   "source": [
    "df_train.head(8)\n",
    "df_train.shape"
   ]
  },
  {
   "cell_type": "code",
   "execution_count": 11,
   "metadata": {},
   "outputs": [
    {
     "data": {
      "text/html": [
       "<div>\n",
       "<style scoped>\n",
       "    .dataframe tbody tr th:only-of-type {\n",
       "        vertical-align: middle;\n",
       "    }\n",
       "\n",
       "    .dataframe tbody tr th {\n",
       "        vertical-align: top;\n",
       "    }\n",
       "\n",
       "    .dataframe thead th {\n",
       "        text-align: right;\n",
       "    }\n",
       "</style>\n",
       "<table border=\"1\" class=\"dataframe\">\n",
       "  <thead>\n",
       "    <tr style=\"text-align: right;\">\n",
       "      <th></th>\n",
       "      <th>test_example_id</th>\n",
       "      <th>story</th>\n",
       "    </tr>\n",
       "  </thead>\n",
       "  <tbody>\n",
       "    <tr>\n",
       "      <th>0</th>\n",
       "      <td>0</td>\n",
       "      <td>כל קיץ אני והמשפחה נוסעים לארצות הברית לוס אנג...</td>\n",
       "    </tr>\n",
       "    <tr>\n",
       "      <th>1</th>\n",
       "      <td>1</td>\n",
       "      <td>הגעתי לשירות המדינה אחרי שנתיים כפעיל בתנועת \"...</td>\n",
       "    </tr>\n",
       "    <tr>\n",
       "      <th>2</th>\n",
       "      <td>2</td>\n",
       "      <td>אחת האהבות הגדולות שלי אלו הכלבים שלי ושל אישת...</td>\n",
       "    </tr>\n",
       "  </tbody>\n",
       "</table>\n",
       "</div>"
      ],
      "text/plain": [
       "   test_example_id                                              story\n",
       "0                0  כל קיץ אני והמשפחה נוסעים לארצות הברית לוס אנג...\n",
       "1                1  הגעתי לשירות המדינה אחרי שנתיים כפעיל בתנועת \"...\n",
       "2                2  אחת האהבות הגדולות שלי אלו הכלבים שלי ושל אישת..."
      ]
     },
     "execution_count": 11,
     "metadata": {},
     "output_type": "execute_result"
    },
    {
     "data": {
      "text/plain": [
       "(323, 2)"
      ]
     },
     "execution_count": 11,
     "metadata": {},
     "output_type": "execute_result"
    }
   ],
   "source": [
    "df_test.head(3)\n",
    "df_test.shape"
   ]
  },
  {
   "cell_type": "markdown",
   "metadata": {},
   "source": [
    "### Your implementation:\n",
    "Write your code solution in the following code-cells"
   ]
  },
  {
   "cell_type": "markdown",
   "metadata": {},
   "source": [
    "#### Data Preparation:\n",
    "We began by preprocessing the text data, removing non-alphanumeric characters, numbers, and extra spaces. This step ensured that the text was in a clean and consistent format for modeling.\n"
   ]
  },
  {
   "cell_type": "code",
   "execution_count": 12,
   "metadata": {},
   "outputs": [],
   "source": [
    "def clean_and_normalize_text(text):\n",
    "    cleaned_s = re.sub(r'\\d+', '', text)\n",
    "    cleaned_s = re.sub(r'[^\\w\\s]', '', text)\n",
    "    cleaned_s = re.sub(r'\\s+', ' ', text)\n",
    "    cleaned_s = text.strip()\n",
    "    return cleaned_s"
   ]
  },
  {
   "cell_type": "code",
   "execution_count": 13,
   "metadata": {},
   "outputs": [],
   "source": [
    "def preprocess_data_frame(df):\n",
    "    df['story'] = df['story'].apply(clean_and_normalize_text)"
   ]
  },
  {
   "cell_type": "markdown",
   "metadata": {},
   "source": [
    "#### Data Presentation:\n",
    "The following functions calculate and display classification evaluation and predictions for the used learning model\n"
   ]
  },
  {
   "cell_type": "code",
   "execution_count": 14,
   "metadata": {},
   "outputs": [],
   "source": [
    "def display_classification_scores(model_name, true_labels, predicted_labels, cross_val_scores):\n",
    "    accuracy = accuracy_score(true_labels, predicted_labels)\n",
    "    f1_scores = f1_score(true_labels, predicted_labels, average=None)\n",
    "    average_f1 = np.mean(f1_scores)\n",
    "    std_deviation = np.std(cross_val_scores)\n",
    "    display_scores(model_name, accuracy, f1_scores, average_f1, std_deviation)\n"
   ]
  },
  {
   "cell_type": "code",
   "execution_count": 15,
   "metadata": {},
   "outputs": [],
   "source": [
    "def display_scores(model_name, accuracy, f1_scores, average_f1, std_deviation):\n",
    "    \n",
    "    print(f'[--- {model_name} Score ---]')\n",
    "    print(f'Accuracy Score: {accuracy:.4f}')\n",
    "    print(f'F1 Score (Male): {f1_scores[0]:.4f}')\n",
    "    print(f'F1 Score (Female): {f1_scores[1]:.4f}')\n",
    "    print(f'Average F1 Score: {average_f1:.4f}')\n",
    "    print(f'Standard Deviation of Cross-Validation Scores: {std_deviation:.4f}\\n')"
   ]
  },
  {
   "cell_type": "code",
   "execution_count": 16,
   "metadata": {},
   "outputs": [],
   "source": [
    "def display_gender_predictions(title, true_labels, predicted_labels):\n",
    "    \n",
    "    predictions_df = create_gender_predictions_df(true_labels, predicted_labels)\n",
    "\n",
    "    display_top_predictions(title, predictions_df)\n",
    "    display_last_predictions(predictions_df)\n",
    "    display_gender_distribution(predictions_df)"
   ]
  },
  {
   "cell_type": "code",
   "execution_count": 17,
   "metadata": {},
   "outputs": [],
   "source": [
    "def create_gender_predictions_df(true_labels, predicted_labels):\n",
    "\n",
    "    return pd.DataFrame({'True Gender': true_labels, 'Predicted Gender': predicted_labels})\n",
    "\n",
    "def display_top_predictions(title, predictions_df, count=5):\n",
    "    \n",
    "    print(f'[--- {title} Predictions ---')\n",
    "    print(f'<Top {count} Predictions>')\n",
    "    print(predictions_df.head(count))\n",
    "    \n",
    "def display_last_predictions(predictions_df, count=5):\n",
    "    \n",
    "    print(f'<Last {count} Predictions>')\n",
    "    print(predictions_df.tail(count))\n",
    "\n",
    "def display_gender_distribution(predictions_df):\n",
    "    \n",
    "    print('<Predicted Gender Distribution>')\n",
    "    print(predictions_df['Predicted Gender'].value_counts())"
   ]
  },
  {
   "cell_type": "markdown",
   "metadata": {},
   "source": [
    "### Data Preparation:¶\n",
    "The following functions prepare the dataset for our training and test models"
   ]
  },
  {
   "cell_type": "code",
   "execution_count": 18,
   "metadata": {},
   "outputs": [],
   "source": [
    "\n",
    "def prepare_train_data(df: pd.DataFrame):\n",
    "    X_train, X_test, y_train, y_test = train_test_split(df['story'], df['gender'], test_size=0.2, random_state=42)\n",
    "    \n",
    "    vec = TfidfVectorizer(ngram_range=(1, 1), min_df=5)\n",
    "    X_train_vec = vec.fit_transform(X_train)\n",
    "    X_test_vec = vec.transform(X_test)\n",
    "    \n",
    "    selector = SelectKBest(mutual_info_classif, k=1000)\n",
    "    selector.fit(X_train_vec, y_train)\n",
    "    X_train_selected = selector.transform(X_train_vec)\n",
    "    X_test_selected = selector.transform(X_test_vec)\n",
    "    \n",
    "    scaler = MinMaxScaler()\n",
    "    X_train_scaled = scaler.fit_transform(X_train_selected.toarray())\n",
    "    X_test_scaled = scaler.transform(X_test_selected.toarray())\n",
    "    \n",
    "    return X_train_scaled, X_test_scaled, y_train, y_test\n"
   ]
  },
  {
   "cell_type": "code",
   "execution_count": 23,
   "metadata": {},
   "outputs": [],
   "source": [
    "def prepare_test_data(df: pd.DataFrame, y_train: np.array):\n",
    "    \n",
    "    X_test = df['story']\n",
    "    vec = TfidfVectorizer(ngram_range=(1, 1), min_df=5)\n",
    "    X_test_vec = vec.fit_transform(X_test)\n",
    "    \n",
    "    selector = SelectKBest(mutual_info_classif, k=1000)\n",
    "    X_test_selected = selector.fit_transform(X_test_vec, np.zeros(X_test_vec.shape[0]))\n",
    "    \n",
    "    scaler = MinMaxScaler()\n",
    "    X_test_scaled = scaler.fit_transform(X_test_selected.toarray())\n",
    "    \n",
    "    return df['story'], X_test_scaled"
   ]
  },
  {
   "cell_type": "markdown",
   "metadata": {},
   "source": [
    "### Logistic Regression\n"
   ]
  },
  {
   "cell_type": "code",
   "execution_count": 20,
   "metadata": {},
   "outputs": [],
   "source": [
    "from sklearn.linear_model import LogisticRegression\n",
    "\n",
    "def train_logistic_regression_with_tuning(X_train: np.ndarray, y_train: np.ndarray) -> LogisticRegression:\n",
    "\n",
    "    base_logistic_regression = LogisticRegression()\n",
    "\n",
    "    hyperparameter_grid = {\n",
    "        'C': [0.1, 1, 10],\n",
    "        'penalty': ['l1', 'l2']\n",
    "    }\n",
    "\n",
    "    grid_search = GridSearchCV(estimator=base_logistic_regression, param_grid=hyperparameter_grid, cv=5, n_jobs=-1)\n",
    "    grid_search.fit(X_train, y_train)\n",
    "\n",
    "    best_hyperparameters = grid_search.best_params_\n",
    "\n",
    "    best_logistic_regression_model = LogisticRegression(**best_hyperparameters)\n",
    "\n",
    "    best_logistic_regression_model.fit(X_train, y_train)\n",
    "\n",
    "    return best_logistic_regression_model"
   ]
  },
  {
   "cell_type": "markdown",
   "metadata": {},
   "source": [
    "### Naive Base\n"
   ]
  },
  {
   "cell_type": "code",
   "execution_count": 21,
   "metadata": {},
   "outputs": [],
   "source": [
    "from sklearn.naive_bayes import MultinomialNB\n",
    "\n",
    "def train_best_multinomial_naive_bayes_classifier(X_train: np.ndarray, y_train: np.ndarray) -> MultinomialNB:\n",
    "\n",
    "    multinomial_nb_classifier = MultinomialNB()\n",
    "\n",
    "    hyperparameter_grid = {\n",
    "        'alpha': [0.1, 1, 10],\n",
    "        'fit_prior': [True, False],\n",
    "        'class_prior': [None, [0.3, 0.7], [0.5, 0.5]]\n",
    "    }\n",
    "\n",
    "    grid_search = GridSearchCV(estimator=multinomial_nb_classifier, param_grid=hyperparameter_grid, cv=5, n_jobs=-1)\n",
    "    grid_search.fit(X_train, y_train)\n",
    "\n",
    "    best_hyperparameters = grid_search.best_params_\n",
    "\n",
    "    best_multinomial_nb_model = MultinomialNB(**best_hyperparameters)\n",
    "\n",
    "    best_multinomial_nb_model.fit(X_train, y_train)\n",
    "\n",
    "    return best_multinomial_nb_model\n"
   ]
  },
  {
   "cell_type": "markdown",
   "metadata": {},
   "source": [
    "# Main "
   ]
  },
  {
   "cell_type": "code",
   "execution_count": 29,
   "metadata": {},
   "outputs": [
    {
     "name": "stdout",
     "output_type": "stream",
     "text": [
      "-------------------------------------------\n",
      "classification scores\n",
      "-------------------------------------------\n",
      "Logisitic Regression:\n",
      "-------------------------------------------\n",
      "[--- Logistic Regression Score ---]\n",
      "Accuracy Score: 0.8146\n",
      "F1 Score (Male): 0.4815\n",
      "F1 Score (Female): 0.8871\n",
      "Average F1 Score: 0.6843\n",
      "Standard Deviation of Cross-Validation Scores: 0.0958\n",
      "\n",
      "-------------------------------------------\n",
      "Naive Bayes:\n",
      "-------------------------------------------\n",
      "[--- Naive Bayes Score ---]\n",
      "Accuracy Score: 0.8146\n",
      "F1 Score (Male): 0.5000\n",
      "F1 Score (Female): 0.8862\n",
      "Average F1 Score: 0.6931\n",
      "Standard Deviation of Cross-Validation Scores: 0.0889\n",
      "\n",
      "\n",
      "-------------------------------------------\n",
      "Prediction scores\n",
      "-------------------------------------------\n",
      "Logisitic Regression:\n",
      "-------------------------------------------\n",
      "[--- Logistic Regression Predictions ---\n",
      "<Top 5 Predictions>\n",
      "                                         True Gender Predicted Gender\n",
      "0  כל קיץ אני והמשפחה נוסעים לארצות הברית לוס אנג...                f\n",
      "1  הגעתי לשירות המדינה אחרי שנתיים כפעיל בתנועת \"...                f\n",
      "2  אחת האהבות הגדולות שלי אלו הכלבים שלי ושל אישת...                m\n",
      "3  רגע הגיוס לצבא היה הרגע הכי משמעותי עבורי, אני...                m\n",
      "4  אני הגעתי לברזיל ישר מקולומביה וגם אני עשיתי ע...                m\n",
      "<Last 5 Predictions>\n",
      "                                           True Gender Predicted Gender\n",
      "318  בשנה האחרונה הרגשתי די תקוע בעבודה, השגרה הפכה...                f\n",
      "319  אני ואילן חברים טובים מזה 20 שנה תמיד חלמנו לפ...                m\n",
      "320  מידי יום שישי אני נוהג לנסוע בתחבורה ציבורית ס...                m\n",
      "321  לפני מספר חודשים, בשיא התחלואה של הגל השני, עמ...                m\n",
      "322  היום בו דיווחתי על גניבה של האוטו שלי. בוקר אח...                m\n",
      "<Predicted Gender Distribution>\n",
      "m    269\n",
      "f     54\n",
      "Name: Predicted Gender, dtype: int64\n",
      "-------------------------------------------\n",
      "Naive Bayes:\n",
      "-------------------------------------------\n",
      "[--- Naive Bayes Predictions ---\n",
      "<Top 5 Predictions>\n",
      "                                         True Gender Predicted Gender\n",
      "0  כל קיץ אני והמשפחה נוסעים לארצות הברית לוס אנג...                f\n",
      "1  הגעתי לשירות המדינה אחרי שנתיים כפעיל בתנועת \"...                f\n",
      "2  אחת האהבות הגדולות שלי אלו הכלבים שלי ושל אישת...                m\n",
      "3  רגע הגיוס לצבא היה הרגע הכי משמעותי עבורי, אני...                f\n",
      "4  אני הגעתי לברזיל ישר מקולומביה וגם אני עשיתי ע...                f\n",
      "<Last 5 Predictions>\n",
      "                                           True Gender Predicted Gender\n",
      "318  בשנה האחרונה הרגשתי די תקוע בעבודה, השגרה הפכה...                f\n",
      "319  אני ואילן חברים טובים מזה 20 שנה תמיד חלמנו לפ...                f\n",
      "320  מידי יום שישי אני נוהג לנסוע בתחבורה ציבורית ס...                m\n",
      "321  לפני מספר חודשים, בשיא התחלואה של הגל השני, עמ...                m\n",
      "322  היום בו דיווחתי על גניבה של האוטו שלי. בוקר אח...                m\n",
      "<Predicted Gender Distribution>\n",
      "m    162\n",
      "f    161\n",
      "Name: Predicted Gender, dtype: int64\n"
     ]
    }
   ],
   "source": [
    "\n",
    "\n",
    "\n",
    "\n",
    "X_train, X_test, y_train, y_test = prepare_train_data(df_train)\n",
    "LR_Model = train_logistic_regression_with_tuning(X_train, y_train)\n",
    "NB_Model = train_best_multinomial_naive_bayes_classifier(X_train, y_train)\n",
    "\n",
    "cv = model_selection.RepeatedKFold(n_splits=5, n_repeats=3, random_state=42)\n",
    "logistic_regression_score = cross_val_score(LR_Model, X_test, y_test, scoring='accuracy', cv=cv, n_jobs=-1)\n",
    "naive_base_score = cross_val_score(NB_Model, X_test, y_test, scoring='accuracy', cv=cv, n_jobs=-1)\n",
    "\n",
    "logistic_regression_y_pred = LR_Model.predict(X_test)\n",
    "naive_base_y_pred = NB_Model.predict(X_test)\n",
    "print(\"-------------------------------------------\")\n",
    "print(\"classification scores\")\n",
    "print(\"-------------------------------------------\")\n",
    "print(\"Logisitic Regression:\")\n",
    "print(\"-------------------------------------------\")\n",
    "display_classification_scores('Logistic Regression', y_test, logistic_regression_y_pred, logistic_regression_score)\n",
    "print(\"-------------------------------------------\")\n",
    "print(\"Naive Bayes:\")\n",
    "print(\"-------------------------------------------\")\n",
    "display_classification_scores('Naive Bayes', y_test, naive_base_y_pred, naive_base_score)\n",
    "\n",
    "test_data, test_X_test = prepare_test_data(df_test, y_train)\n",
    "logistic_regression_test_y_pred = LR_Model.predict(test_X_test)\n",
    "naive_base_test_y_pred = NB_Model.predict(test_X_test)\n",
    "\n",
    "print(\"\")\n",
    "print(\"-------------------------------------------\")\n",
    "print(\"Prediction scores\")\n",
    "print(\"-------------------------------------------\")\n",
    "print(\"Logisitic Regression:\")\n",
    "print(\"-------------------------------------------\")\n",
    "display_gender_predictions('Logistic Regression', test_data, logistic_regression_test_y_pred)\n",
    "print(\"-------------------------------------------\")\n",
    "print(\"Naive Bayes:\")\n",
    "print(\"-------------------------------------------\")\n",
    "display_gender_predictions('Naive Bayes', test_data, naive_base_test_y_pred)"
   ]
  },
  {
   "cell_type": "markdown",
   "metadata": {},
   "source": [
    "# Results:\n",
    "### Logistic Regression:\n",
    " - Achieved an accuracy score of approximately 81.46%.\n",
    " - Demonstrated an F1 score of 0.4815 for the 'Male' class and 0.8871 for the 'Female' class.\n",
    " - The average F1 score, considering both classes, was 0.6843.\n",
    " - The standard deviation of cross-validation scores was 0.0958, indicating some variability in model    performance.\n",
    " \n",
    "### Naive Bayes:\n",
    "- Also achieved an accuracy score of approximately 81.46%, matching the Logistic Regression model.\n",
    "- Exhibited an F1 score of 0.5000 for the 'Male' class and 0.8862 for the 'Female' class.\n",
    "- The average F1 score across classes was slightly higher at 0.6931.\n",
    "- The standard deviation of cross-validation scores was lower at 0.0889, implying relatively consistent model performance."
   ]
  },
  {
   "cell_type": "markdown",
   "metadata": {},
   "source": [
    "# Conclusions:\n",
    "We trained two classification models, Logistic Regression and Naive Bayes, to predict the gender of authors. These models were selected due to their simplicit and effectiveness.\n",
    "While the project focused on the technical aspects of building and evaluating classification models, it acknowledges that gender classification tasks are not solely about achieving high accuracy or performance metrics. They involve deeper considerations.\n",
    "Developers should strive for models that are not only accurate but also fair, transparent, and respectful of individual identities and rights."
   ]
  },
  {
   "cell_type": "markdown",
   "metadata": {},
   "source": [
    "### Save output to csv (optional)\n",
    "After you're done save your output to the 'classification_results.csv' csv file.<br/>\n",
    "We assume that the dataframe with your results contain the following columns:\n",
    "* column 1 (left column): 'test_example_id'  - the same id associated to each of the test stories to be predicted.\n",
    "* column 2 (right column): 'predicted_category' - the predicted gender value for each of the associated story. \n",
    "\n",
    "Assuming your predicted values are in the `df_predicted` dataframe, you should save you're results as following:"
   ]
  },
  {
   "cell_type": "code",
   "execution_count": null,
   "metadata": {},
   "outputs": [],
   "source": [
    "df_predicted.to_csv('classification_results.csv',index=False)"
   ]
  }
 ],
 "metadata": {
  "celltoolbar": "Create Assignment",
  "kernelspec": {
   "display_name": "Python 3 (ipykernel)",
   "language": "python",
   "name": "python3"
  },
  "language_info": {
   "codemirror_mode": {
    "name": "ipython",
    "version": 3
   },
   "file_extension": ".py",
   "mimetype": "text/x-python",
   "name": "python",
   "nbconvert_exporter": "python",
   "pygments_lexer": "ipython3",
   "version": "3.9.13"
  }
 },
 "nbformat": 4,
 "nbformat_minor": 4
}
